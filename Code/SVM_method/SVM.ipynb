{
 "cells": [
  {
   "cell_type": "code",
   "execution_count": 18,
   "metadata": {},
   "outputs": [],
   "source": [
    "import os\n",
    "import numpy as np\n",
    "import matplotlib.pyplot as plt\n",
    "from skimage.feature import hog\n",
    "from sklearn import svm\n",
    "from sklearn.metrics import accuracy_score, classification_report, confusion_matrix\n",
    "from sklearn.model_selection import train_test_split\n",
    "from sklearn.preprocessing import LabelBinarizer\n",
    "from sklearn.utils import shuffle\n",
    "from tensorflow.keras.utils import load_img, img_to_array\n",
    "import joblib"
   ]
  },
  {
   "cell_type": "code",
   "execution_count": 2,
   "metadata": {},
   "outputs": [],
   "source": [
    "# Function to load and prepare the image\n",
    "def load_and_prepare_image(image_path, target_size=(48, 48)):\n",
    "    img = load_img(image_path, target_size=target_size)\n",
    "    img_array = img_to_array(img)\n",
    "    img_array = img_array / 255.0\n",
    "    return img_array"
   ]
  },
  {
   "cell_type": "code",
   "execution_count": 3,
   "metadata": {},
   "outputs": [],
   "source": [
    "# Function to extract HOG features\n",
    "def extract_hog_features(image_array):\n",
    "    hog_features, hog_image = hog(image_array, orientations=9, pixels_per_cell=(8, 8),\n",
    "                                  cells_per_block=(2, 2), visualize=True, channel_axis=-1)\n",
    "    return hog_features"
   ]
  },
  {
   "cell_type": "code",
   "execution_count": 4,
   "metadata": {},
   "outputs": [],
   "source": [
    "# Function to load images and labels from a directory\n",
    "def load_images_from_directory(directory, target_size=(48, 48)):\n",
    "    images = []\n",
    "    labels = []\n",
    "    for label_dir in os.listdir(directory):\n",
    "        label_path = os.path.join(directory, label_dir)\n",
    "        if os.path.isdir(label_path):\n",
    "            for image_file in os.listdir(label_path):\n",
    "                image_path = os.path.join(label_path, image_file)\n",
    "                img_array = load_and_prepare_image(image_path, target_size)\n",
    "                hog_features = extract_hog_features(img_array)\n",
    "                images.append(hog_features)\n",
    "                labels.append(label_dir)\n",
    "    return np.array(images), np.array(labels)"
   ]
  },
  {
   "cell_type": "code",
   "execution_count": 5,
   "metadata": {},
   "outputs": [],
   "source": [
    "# Function to train the SVM model\n",
    "def train_svm_model(X_train, y_train):\n",
    "    model = svm.SVC(kernel='linear', probability=True)\n",
    "    model.fit(X_train, y_train)\n",
    "    return model"
   ]
  },
  {
   "cell_type": "code",
   "execution_count": 6,
   "metadata": {},
   "outputs": [],
   "source": [
    "# Function to evaluate the SVM model\n",
    "def evaluate_model(model, X_test, y_test):\n",
    "    y_pred = model.predict(X_test)\n",
    "    print(f\"Accuracy: {accuracy_score(y_test, y_pred)}\")\n",
    "    print(f\"Classification Report:\\n{classification_report(y_test, y_pred)}\")\n",
    "    print(f\"Confusion Matrix:\\n{confusion_matrix(y_test, y_pred)}\")"
   ]
  },
  {
   "cell_type": "code",
   "execution_count": 7,
   "metadata": {},
   "outputs": [],
   "source": [
    "# Directories for training and testing data\n",
    "train_dir = 'train'\n",
    "test_dir = 'test'"
   ]
  },
  {
   "cell_type": "code",
   "execution_count": 8,
   "metadata": {},
   "outputs": [],
   "source": [
    "# Load training and testing data\n",
    "X_train, y_train = load_images_from_directory(train_dir)\n",
    "X_test, y_test = load_images_from_directory(test_dir)"
   ]
  },
  {
   "cell_type": "code",
   "execution_count": 9,
   "metadata": {},
   "outputs": [],
   "source": [
    "# Shuffle and split the dataset if needed (optional)\n",
    "X_train, y_train = shuffle(X_train, y_train, random_state=42)\n",
    "X_test, y_test = shuffle(X_test, y_test, random_state=42)"
   ]
  },
  {
   "cell_type": "code",
   "execution_count": 10,
   "metadata": {},
   "outputs": [],
   "source": [
    "# Train the SVM model\n",
    "svm_model = train_svm_model(X_train, y_train)"
   ]
  },
  {
   "cell_type": "code",
   "execution_count": 11,
   "metadata": {},
   "outputs": [
    {
     "name": "stdout",
     "output_type": "stream",
     "text": [
      "Accuracy: 0.4446921147952076\n",
      "Classification Report:\n",
      "              precision    recall  f1-score   support\n",
      "\n",
      "       angry       0.32      0.30      0.31       958\n",
      "     disgust       0.49      0.22      0.30       111\n",
      "        fear       0.31      0.24      0.27      1024\n",
      "       happy       0.57      0.73      0.64      1774\n",
      "     neutral       0.41      0.44      0.43      1233\n",
      "         sad       0.33      0.29      0.31      1247\n",
      "    surprise       0.59      0.52      0.55       831\n",
      "\n",
      "    accuracy                           0.44      7178\n",
      "   macro avg       0.43      0.39      0.40      7178\n",
      "weighted avg       0.43      0.44      0.43      7178\n",
      "\n",
      "Confusion Matrix:\n",
      "[[ 284    4  104  183  165  169   49]\n",
      " [  31   24   13   15    5   20    3]\n",
      " [ 128   10  250  183  152  184  117]\n",
      " [ 100    4   85 1298  106  141   40]\n",
      " [ 115    3  114  235  545  174   47]\n",
      " [ 177    3  135  271  259  363   39]\n",
      " [  65    1   97  112   86   42  428]]\n"
     ]
    }
   ],
   "source": [
    "# Evaluate the SVM model\n",
    "evaluate_model(svm_model, X_test, y_test)"
   ]
  },
  {
   "cell_type": "code",
   "execution_count": 12,
   "metadata": {},
   "outputs": [],
   "source": [
    "# Function to predict emotion from a single image\n",
    "def predict_emotion(image_path, model):\n",
    "    img_array = load_and_prepare_image(image_path)\n",
    "    hog_features = extract_hog_features(img_array)\n",
    "    hog_features = hog_features.reshape(1, -1)\n",
    "    prediction = model.predict(hog_features)\n",
    "    return prediction[0]"
   ]
  },
  {
   "cell_type": "code",
   "execution_count": 13,
   "metadata": {},
   "outputs": [],
   "source": [
    "# Path to the image for testing\n",
    "test_image_path = 'test/disgust/PrivateTest_807646.jpg'"
   ]
  },
  {
   "cell_type": "code",
   "execution_count": 14,
   "metadata": {},
   "outputs": [
    {
     "name": "stdout",
     "output_type": "stream",
     "text": [
      "The predicted emotion for the test image is: angry\n"
     ]
    }
   ],
   "source": [
    "# Predict the emotion of the test image\n",
    "predicted_emotion = predict_emotion(test_image_path, svm_model)\n",
    "print(f\"The predicted emotion for the test image is: {predicted_emotion}\")"
   ]
  },
  {
   "cell_type": "code",
   "execution_count": 15,
   "metadata": {},
   "outputs": [],
   "source": [
    "# Function to visualize the prediction\n",
    "def visualize_prediction(image_path, prediction):\n",
    "    img = load_img(image_path, target_size=(48, 48), color_mode='grayscale')\n",
    "    img_array = img_to_array(img)\n",
    "    \n",
    "    plt.imshow(img_array.squeeze(), cmap='gray')\n",
    "    plt.title(f\"Predicted Emotion: {prediction}\")\n",
    "    plt.axis('off')\n",
    "    plt.show()"
   ]
  },
  {
   "cell_type": "code",
   "execution_count": 16,
   "metadata": {},
   "outputs": [
    {
     "data": {
      "image/png": "[encoded data removed]",
      "text/plain": [
       "<Figure size 640x480 with 1 Axes>"
      ]
     },
     "metadata": {},
     "output_type": "display_data"
    }
   ],
   "source": [
    "# Visualize the prediction\n",
    "visualize_prediction(test_image_path, predicted_emotion)"
   ]
  },
  {
   "cell_type": "code",
   "execution_count": 19,
   "metadata": {},
   "outputs": [
    {
     "name": "stdout",
     "output_type": "stream",
     "text": [
      "Model saved to svm_emotion_model.joblib\n"
     ]
    }
   ],
   "source": [
    "# Save the trained model\n",
    "model_path = 'svm_emotion_model.joblib'\n",
    "joblib.dump(svm_model, model_path)\n",
    "print(f\"Model saved to {model_path}\")"
   ]
  }
 ],
 "metadata": {
  "kernelspec": {
   "display_name": "face_emotion",
   "language": "python",
   "name": "python3"
  },
  "language_info": {
   "codemirror_mode": {
    "name": "ipython",
    "version": 3
   },
   "file_extension": ".py",
   "mimetype": "text/x-python",
   "name": "python",
   "nbconvert_exporter": "python",
   "pygments_lexer": "ipython3",
   "version": "3.8.19"
  }
 },
 "nbformat": 4,
 "nbformat_minor": 2
}
